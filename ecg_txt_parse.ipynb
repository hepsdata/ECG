{
 "cells": [
  {
   "cell_type": "markdown",
   "metadata": {},
   "source": [
    "건강모니터링랩 ECG example 시각화 UI\n",
    "작성자 : 이동우"
   ]
  },
  {
   "cell_type": "markdown",
   "metadata": {},
   "source": [
    "Regular Expression 기반의 Parsing 코드"
   ]
  },
  {
   "cell_type": "code",
   "execution_count": 1,
   "metadata": {},
   "outputs": [],
   "source": [
    "import re\n",
    "anonymize_data = True\n",
    "def parse(text):\n",
    "    item_dict = {}\n",
    "    data_strings = []\n",
    "    text_before_data, data = text.split('data:')\n",
    "    for match in re.finditer(r'(\\w+):([^,]+)', text_before_data):\n",
    "        key, value = match.groups()\n",
    "        if \"ObjectId\" in value or \"ISODate\" in value:\n",
    "            value = value.split('(')[1].split(')')[0].strip('\\'\"')\n",
    "        item_dict[key] = value.strip().strip('\\'\"')\n",
    "\n",
    "    if anonymize_data:\n",
    "        if key == '_id':\n",
    "            value = 'ObjectId(00000000)'\n",
    "        elif key == 'pat_id':\n",
    "            value = 'anonymous_user'\n",
    "        elif key == 'editBy':\n",
    "            value = 'user_editor'\n",
    "\n",
    "    item_dict[key] = value.strip().strip('\\'\"')\n",
    "\n",
    "    data = data[:-2]\n",
    "    patterns = {\n",
    "        'packetCount': r'packetCount:\\s*([^,]+)',\n",
    "        'heartRate': r'heartRate:\\s*([^,]+)',\n",
    "        'respirationRate': r'respirationRate:\\s*([^,]+)',\n",
    "        'temperature': r'temperature:\\s*([^,]+)',\n",
    "        'batteryPercentage': r'batteryPercentage:\\s*([^,]+)',\n",
    "        'motionStatus': r'motionStatus:\\s*([^,]+)',\n",
    "        'apnea': r'apnea:\\s*([^,]+)',\n",
    "        'leadFail': r'leadFail:\\s*([^,]+)',\n",
    "        'rhythmArrhythmiaInfo': r'rhythmArrhythmiaInfo:\\s*([^,]+)',\n",
    "        'beatArrhythmiaInfo': r'beatArrhythmiaInfo:\\s*([^,]+)',\n",
    "        'rPeak': r'rPeak:\\s*([^,]+)',\n",
    "        'ecg': r'ecg:\\s*\\[([^\\]]+)]'\n",
    "    }\n",
    "\n",
    "    extracted_info = {}\n",
    "\n",
    "    for field, pattern in patterns.items():\n",
    "        matches = re.findall(pattern, text)\n",
    "        if field == 'packetCount':\n",
    "            extracted_info[field] = [int(match) for match in matches]\n",
    "        elif field == 'ecg':\n",
    "            extracted_info[field] = [[int(value) for value in match.split(',')] for match in matches]\n",
    "        else:\n",
    "            extracted_info[field] = matches\n",
    "\n",
    "    grouped_data = {}\n",
    "    for i, packet_count in enumerate(extracted_info['packetCount']):\n",
    "        grouped_data[packet_count] = {field: extracted_info[field][i] for field in extracted_info if field != 'packetCount'}\n",
    "\n",
    "    item_dict['data'] = grouped_data\n",
    "\n",
    "    return item_dict\n",
    "\n",
    "def read_text(file_path):\n",
    "    try:\n",
    "        with open(file_path, 'r') as file:\n",
    "            file_contents = file.read()\n",
    "        return file_contents\n",
    "    except FileNotFoundError:\n",
    "        print(f\"파일을 찾을 수 없습니다: {file_path}\")\n",
    "        return None\n",
    "    except Exception as e:\n",
    "        print(f\"파일 읽기 오류: {e}\")\n",
    "        return None\n",
    "\n"
   ]
  },
  {
   "cell_type": "code",
   "execution_count": 2,
   "metadata": {},
   "outputs": [],
   "source": [
    "file_path = 'ecg_example.txt'\n",
    "file_contents = read_text(file_path)\n",
    "parsed_dict = parse(file_contents)"
   ]
  },
  {
   "cell_type": "markdown",
   "metadata": {},
   "source": [
    "Pickle file 저장"
   ]
  },
  {
   "cell_type": "code",
   "execution_count": 3,
   "metadata": {},
   "outputs": [
    {
     "name": "stdout",
     "output_type": "stream",
     "text": [
      "Dictionary saved as 'parsed_data.pkl'\n"
     ]
    }
   ],
   "source": [
    "import pickle\n",
    "filename = 'parsed_data.pkl'\n",
    "\n",
    "with open(filename, 'wb') as file:\n",
    "    pickle.dump(parsed_dict, file)\n",
    "\n",
    "print(f\"Dictionary saved as '{filename}'\")"
   ]
  },
  {
   "cell_type": "code",
   "execution_count": 4,
   "metadata": {},
   "outputs": [
    {
     "name": "stdout",
     "output_type": "stream",
     "text": [
      "dict_keys([669, 670, 671, 672, 673, 674, 675, 676, 677, 678, 679, 680, 681, 682, 683, 684, 685, 686, 687, 688, 689, 690, 691, 692, 693, 694, 695, 696, 697, 698, 699, 700, 701, 702, 703, 704, 705, 706, 707, 708, 709, 710, 711, 712, 713, 714, 715, 716, 717, 718, 719, 720, 721, 722, 723, 724, 725, 726, 727, 728, 729, 730, 731, 732, 733, 734, 735, 736, 737, 738, 739, 740, 741, 742, 743, 744, 745, 746, 747, 748, 749, 750, 751, 752, 753, 754, 755, 756, 757, 758, 759, 760, 761, 762, 763, 764, 765, 766, 767, 768, 769, 770, 771, 772, 773, 774, 775, 776, 777, 778, 779, 780, 781, 782, 783, 784, 785, 786, 787, 788, 789, 790, 791, 792, 793, 794, 795, 796, 797, 798, 799, 800, 801, 802, 803, 804, 805, 806, 807, 808, 809, 810, 811, 812, 813, 814, 815, 816, 817, 818])\n"
     ]
    }
   ],
   "source": [
    "print(parsed_dict['data'].keys())"
   ]
  },
  {
   "cell_type": "markdown",
   "metadata": {},
   "source": [
    "Tkinter 기반 시각화 UI 구현\n",
    "AFib 유무에 따라 ecg color가 변경됨.\n",
    "부정맥 검출을 위해 'rhythmArrhythmiaInfo'와 'beatArrhythmiaInfo'의 논리합(OR)연산 값을 기준으로 color 변경"
   ]
  },
  {
   "cell_type": "code",
   "execution_count": 5,
   "metadata": {},
   "outputs": [
    {
     "data": {
      "image/png": "[encoded data removed]",
      "text/plain": [
       "<Figure size 640x480 with 1 Axes>"
      ]
     },
     "metadata": {},
     "output_type": "display_data"
    }
   ],
   "source": [
    "import tkinter as tk\n",
    "from matplotlib.backends.backend_tkagg import FigureCanvasTkAgg\n",
    "import matplotlib.pyplot as plt\n",
    "\n",
    "def update_plot(packet_count=None):\n",
    "    if packet_count is None:\n",
    "        packet_count = int(packet_count_entry.get())\n",
    "\n",
    "    data = parsed_dict['data'].get(packet_count, None)\n",
    "    if data:\n",
    "        \n",
    "        r_AFib, b_AFib = False, False\n",
    "        ecg_data = data['ecg']\n",
    "        if data['rhythmArrhythmiaInfo'] != 'null' and data['rhythmArrhythmiaInfo'] != '13':\n",
    "            r_AFib = True\n",
    "        if data['beatArrhythmiaInfo'] != '0' :\n",
    "            b_AFib = True\n",
    "\n",
    "        AFib = r_AFib or b_AFib\n",
    "        if AFib :\n",
    "            clr = 'red'\n",
    "        else :\n",
    "            clr = 'blue'\n",
    "        ax.clear()\n",
    "        ax.plot(ecg_data, color = clr)\n",
    "        ax.set_title(f'ECG Data for PacketCount: {packet_count}')\n",
    "        canvas.draw()\n",
    "\n",
    "        slider.set(packet_count)\n",
    "\n",
    "        info_text = '\\n'.join([f'{key}: {value}' for key, value in data.items() if key != 'ecg'])\n",
    "        info_label.config(text=info_text)\n",
    "    else:\n",
    "        info_label.config(text=\"No data available for this packet count.\")\n",
    "\n",
    "root = tk.Tk()\n",
    "root.title(\"ECG Data Visualization\")\n",
    "\n",
    "graph_frame = tk.Frame(root)\n",
    "graph_frame.pack(side=tk.LEFT, fill=tk.BOTH, expand=True)\n",
    "\n",
    "fig, ax = plt.subplots()\n",
    "canvas = FigureCanvasTkAgg(fig, master=graph_frame)\n",
    "widget = canvas.get_tk_widget()\n",
    "widget.pack(fill=tk.BOTH, expand=True)\n",
    "\n",
    "info_input_frame = tk.Frame(root)\n",
    "info_input_frame.pack(side=tk.RIGHT, fill=tk.Y)\n",
    "\n",
    "info_label = tk.Label(info_input_frame, text=\"\", justify=tk.LEFT)\n",
    "info_label.pack(side=tk.TOP, fill=tk.X)\n",
    "\n",
    "input_frame = tk.Frame(info_input_frame)\n",
    "input_frame.pack(side=tk.TOP, fill=tk.X)\n",
    "\n",
    "packet_count_entry = tk.Entry(input_frame, width=20) \n",
    "packet_count_entry.pack(side=tk.LEFT, fill=tk.X, expand=True)\n",
    "\n",
    "update_button = tk.Button(input_frame, text=\"Update\", command=lambda: update_plot())\n",
    "update_button.pack(side=tk.LEFT)\n",
    "\n",
    "packet_counts = list(parsed_dict['data'].keys())\n",
    "slider = tk.Scale(info_input_frame, from_=min(packet_counts), to=max(packet_counts), orient=tk.HORIZONTAL, command=lambda v: update_plot(int(v)))\n",
    "slider.pack(side=tk.TOP, fill=tk.X)\n",
    "\n",
    "root.mainloop()"
   ]
  }
 ],
 "metadata": {
  "kernelspec": {
   "display_name": "Python 3",
   "language": "python",
   "name": "python3"
  },
  "language_info": {
   "codemirror_mode": {
    "name": "ipython",
    "version": 3
   },
   "file_extension": ".py",
   "mimetype": "text/x-python",
   "name": "python",
   "nbconvert_exporter": "python",
   "pygments_lexer": "ipython3",
   "version": "3.10.13"
  }
 },
 "nbformat": 4,
 "nbformat_minor": 2
}
